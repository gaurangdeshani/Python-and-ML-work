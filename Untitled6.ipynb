{
 "cells": [
  {
   "cell_type": "markdown",
   "id": "683e7bcd",
   "metadata": {},
   "source": [
    "##   Some python work\n"
   ]
  },
  {
   "cell_type": "markdown",
   "id": "b8595994",
   "metadata": {},
   "source": [
    "## Class \n",
    "      It is an blue print of an object\n",
    "      \n",
    "      Class has two properties:\n",
    "         1. Attributes(variables) 2. methods(Behaviour)\n",
    "## object\n",
    "      It is an real world entity\n",
    "      "
   ]
  },
  {
   "cell_type": "markdown",
   "id": "3370e4b4",
   "metadata": {},
   "source": [
    "## Methods in python"
   ]
  },
  {
   "cell_type": "code",
   "execution_count": 2,
   "id": "a9166875",
   "metadata": {},
   "outputs": [
    {
     "name": "stdout",
     "output_type": "stream",
     "text": [
      "i5, 256gb ram, 1tb\n",
      "i5, 256gb ram, 1tb\n"
     ]
    }
   ],
   "source": [
    "class computer:\n",
    "    #method\n",
    "    def config(self):\n",
    "        print(\"i5, 256gb ram, 1tb\")\n",
    "        \n",
    "computer1 = computer()  #==> object created a ==> int a in same way computer 1 is of which type class type computer()\n",
    "\n",
    "# there are two ways to use config methods\n",
    "#1st way\n",
    "\n",
    "computer.config(computer1)\n",
    "\n",
    "#2nd way ==> most used way\n",
    "\n",
    "computer1.config()"
   ]
  },
  {
   "cell_type": "markdown",
   "id": "1f4e5a9b",
   "metadata": {},
   "source": [
    "## construc. in python\n"
   ]
  },
  {
   "cell_type": "code",
   "execution_count": 5,
   "id": "296d77f6",
   "metadata": {},
   "outputs": [
    {
     "name": "stdout",
     "output_type": "stream",
     "text": [
      "i5 16gb\n"
     ]
    }
   ],
   "source": [
    "# we use special methode call __init__(self, arguments)\n",
    "class computer_specification:\n",
    "    #constructor\n",
    "    def __init__(self,cpu,ram):\n",
    "        self.cpu = cpu\n",
    "        self.ram = ram\n",
    "   \n",
    "    def config(self):\n",
    "        print(self.cpu,self.ram)\n",
    "        \n",
    "comp1 = computer_specification(\"i5\",\"16gb\")#==> object created a ==> int a in same way computer 1 is of which type class type computer()\n",
    "comp1.config()\n",
    "# there are two ways to use config methods\n",
    "#1st way\n",
    "\n"
   ]
  },
  {
   "cell_type": "markdown",
   "id": "f198203c",
   "metadata": {},
   "source": [
    "## types of variables\n",
    " 1. instance variable\n",
    " 2. class variable or static variable\n",
    " "
   ]
  },
  {
   "cell_type": "markdown",
   "id": "fb40d219",
   "metadata": {},
   "source": [
    "#### instance variables are those variables which can declare inside init methods and we can chaange it value for different object     different\n",
    "#### static varibles and class variables declare inside a class ==> if we want to make variable for all the varibles as common  "
   ]
  },
  {
   "cell_type": "code",
   "execution_count": 7,
   "id": "c4a6065f",
   "metadata": {},
   "outputs": [],
   "source": [
    "class car:\n",
    "    wheels = 4 # static varibles\n",
    "    def __init__(self, mil, com):\n",
    "        self.mil = mil  #instance variable\n",
    "        self.com = com\n",
    "        \n",
    "car1 = car(10, \"BMW\")\n",
    "car2 = car(20,\"odi\")\n",
    "\n",
    "computer.wheels = 5;\n",
    "\n"
   ]
  },
  {
   "cell_type": "markdown",
   "id": "6406bcb8",
   "metadata": {},
   "source": [
    "### Types of methods\n",
    "##### 1.static methods :: methods which have nothing to do with class methods and static methods\n",
    "##### 2.instance methods :: deals with instance method (genreral class methods)\n",
    "##### 3.class methods ::  deal with class methods\n"
   ]
  },
  {
   "cell_type": "code",
   "execution_count": 16,
   "id": "31c6586d",
   "metadata": {},
   "outputs": [
    {
     "name": "stdout",
     "output_type": "stream",
     "text": [
      "66.66666666666667\n",
      "gaurang deshani\n"
     ]
    }
   ],
   "source": [
    "class student:\n",
    "    school = \"gaurang\" #==> for class method\n",
    "    def __init__(self, m1, m2, m3):\n",
    "        self.m1 = m1\n",
    "        self.m2 = m2\n",
    "        self.m3 = m3\n",
    "        \n",
    "    #instance methods\n",
    "    def avg(self):\n",
    "        self.avg = ( self.m1 + self.m2 + self.m3 ) / 3\n",
    "        print(self.avg)\n",
    "    @classmethod  ## want to change school name\n",
    "    def changename(cls):\n",
    "        cls.school = \"gaurang deshani\"\n",
    "        print(cls.school)\n",
    "    @staticmethod  ## want to change school name\n",
    "    def info():\n",
    "        print(\"hlw welc ome to my school\") ## deals with nothing when you not want class or staitc methods\n",
    "\n",
    "student1 = student(89, 56, 55)\n",
    "student1.avg()\n",
    "\n",
    "#as it is an class method\n",
    "student.changename()\n",
    "        "
   ]
  },
  {
   "cell_type": "code",
   "execution_count": null,
   "id": "0b819cdc",
   "metadata": {},
   "outputs": [],
   "source": [
    "def  __init__(self):\n",
    "    "
   ]
  }
 ],
 "metadata": {
  "kernelspec": {
   "display_name": "Python 3 (ipykernel)",
   "language": "python",
   "name": "python3"
  },
  "language_info": {
   "codemirror_mode": {
    "name": "ipython",
    "version": 3
   },
   "file_extension": ".py",
   "mimetype": "text/x-python",
   "name": "python",
   "nbconvert_exporter": "python",
   "pygments_lexer": "ipython3",
   "version": "3.9.5"
  }
 },
 "nbformat": 4,
 "nbformat_minor": 5
}
